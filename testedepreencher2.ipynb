{
 "cells": [
  {
   "cell_type": "code",
   "execution_count": 2,
   "metadata": {},
   "outputs": [],
   "source": [
    "import pandas as pd\n",
    "import pyautogui\n",
    "import pyperclip\n",
    "import time\n",
    "import numpy"
   ]
  },
  {
   "cell_type": "code",
   "execution_count": 3,
   "metadata": {},
   "outputs": [],
   "source": [
    "df = pd.read_excel('plano de amortização.xlsx', sheet_name = 4)\n",
    "df2 = pd.read_excel('plano de amortização.xlsx', sheet_name = 5)"
   ]
  },
  {
   "cell_type": "code",
   "execution_count": 4,
   "metadata": {},
   "outputs": [],
   "source": [
    "df2 = df2.dropna()"
   ]
  },
  {
   "cell_type": "code",
   "execution_count": 78,
   "metadata": {},
   "outputs": [
    {
     "ename": "KeyboardInterrupt",
     "evalue": "",
     "output_type": "error",
     "traceback": [
      "\u001b[1;31m---------------------------------------------------------------------------\u001b[0m",
      "\u001b[1;31mKeyboardInterrupt\u001b[0m                         Traceback (most recent call last)",
      "\u001b[1;32mc:\\Users\\Wuisley\\Documents\\plano de amortização\\testedepreencher.ipynb Cell 4\u001b[0m in \u001b[0;36m<cell line: 13>\u001b[1;34m()\u001b[0m\n\u001b[0;32m     <a href='vscode-notebook-cell:/c%3A/Users/Wuisley/Documents/plano%20de%20amortiza%C3%A7%C3%A3o/testedepreencher.ipynb#W2sZmlsZQ%3D%3D?line=27'>28</a>\u001b[0m pyperclip\u001b[39m.\u001b[39mcopy(\u001b[39mstr\u001b[39m(competencia))\n\u001b[0;32m     <a href='vscode-notebook-cell:/c%3A/Users/Wuisley/Documents/plano%20de%20amortiza%C3%A7%C3%A3o/testedepreencher.ipynb#W2sZmlsZQ%3D%3D?line=28'>29</a>\u001b[0m pyautogui\u001b[39m.\u001b[39mhotkey(\u001b[39m'\u001b[39m\u001b[39mctrl\u001b[39m\u001b[39m'\u001b[39m,\u001b[39m'\u001b[39m\u001b[39mv\u001b[39m\u001b[39m'\u001b[39m)\n\u001b[1;32m---> <a href='vscode-notebook-cell:/c%3A/Users/Wuisley/Documents/plano%20de%20amortiza%C3%A7%C3%A3o/testedepreencher.ipynb#W2sZmlsZQ%3D%3D?line=29'>30</a>\u001b[0m pyautogui\u001b[39m.\u001b[39;49mpress(\u001b[39m'\u001b[39;49m\u001b[39mTab\u001b[39;49m\u001b[39m'\u001b[39;49m)\n\u001b[0;32m     <a href='vscode-notebook-cell:/c%3A/Users/Wuisley/Documents/plano%20de%20amortiza%C3%A7%C3%A3o/testedepreencher.ipynb#W2sZmlsZQ%3D%3D?line=31'>32</a>\u001b[0m pyautogui\u001b[39m.\u001b[39mhotkey(\u001b[39m'\u001b[39m\u001b[39malt\u001b[39m\u001b[39m'\u001b[39m, \u001b[39m'\u001b[39m\u001b[39mdown\u001b[39m\u001b[39m'\u001b[39m)\n\u001b[0;32m     <a href='vscode-notebook-cell:/c%3A/Users/Wuisley/Documents/plano%20de%20amortiza%C3%A7%C3%A3o/testedepreencher.ipynb#W2sZmlsZQ%3D%3D?line=32'>33</a>\u001b[0m \u001b[39mfor\u001b[39;00m n \u001b[39min\u001b[39;00m \u001b[39mrange\u001b[39m(poder):\n",
      "File \u001b[1;32mc:\\Users\\Wuisley\\AppData\\Local\\Programs\\Python\\Python310\\lib\\site-packages\\pyautogui\\__init__.py:599\u001b[0m, in \u001b[0;36m_genericPyAutoGUIChecks.<locals>.wrapper\u001b[1;34m(*args, **kwargs)\u001b[0m\n\u001b[0;32m    597\u001b[0m failSafeCheck()\n\u001b[0;32m    598\u001b[0m returnVal \u001b[39m=\u001b[39m wrappedFunction(\u001b[39m*\u001b[39margs, \u001b[39m*\u001b[39m\u001b[39m*\u001b[39mkwargs)\n\u001b[1;32m--> 599\u001b[0m _handlePause(kwargs\u001b[39m.\u001b[39;49mget(\u001b[39m\"\u001b[39;49m\u001b[39m_pause\u001b[39;49m\u001b[39m\"\u001b[39;49m, \u001b[39mTrue\u001b[39;49;00m))\n\u001b[0;32m    600\u001b[0m \u001b[39mreturn\u001b[39;00m returnVal\n",
      "File \u001b[1;32mc:\\Users\\Wuisley\\AppData\\Local\\Programs\\Python\\Python310\\lib\\site-packages\\pyautogui\\__init__.py:643\u001b[0m, in \u001b[0;36m_handlePause\u001b[1;34m(_pause)\u001b[0m\n\u001b[0;32m    641\u001b[0m \u001b[39mif\u001b[39;00m _pause:\n\u001b[0;32m    642\u001b[0m     \u001b[39massert\u001b[39;00m \u001b[39misinstance\u001b[39m(PAUSE, \u001b[39mint\u001b[39m) \u001b[39mor\u001b[39;00m \u001b[39misinstance\u001b[39m(PAUSE, \u001b[39mfloat\u001b[39m)\n\u001b[1;32m--> 643\u001b[0m     time\u001b[39m.\u001b[39;49msleep(PAUSE)\n",
      "\u001b[1;31mKeyboardInterrupt\u001b[0m: "
     ]
    }
   ],
   "source": [
    "#PREENCHENDO OS ÓRGÃOS\n",
    "time.sleep(4)\n",
    "pyautogui.PAUSE = 0.1\n",
    "\n",
    "for v in range(4):\n",
    "    pyautogui.press('tab')\n",
    "\n",
    "pyautogui.press('space')\n",
    "\n",
    "for b in range(4):\n",
    "    pyautogui.hotkey('shift', 'tab')\n",
    "\n",
    "for i, dados in enumerate(df[\"CNPJ\"]):\n",
    "    cnpj = df.loc[i, \"CNPJ\"]\n",
    "    nome = df.loc[i, \"NOME\"]\n",
    "    competencia = df.loc[i, \"COMPETENCIA\"]\n",
    "    poder = df.loc[i, \"PODER\"]\n",
    "    tipo = df.loc[i, \"TIPO\"]\n",
    "\n",
    "    pyperclip.copy(str(cnpj))\n",
    "    pyautogui.hotkey('ctrl','v')\n",
    "    pyautogui.press('Tab')\n",
    "\n",
    "    pyperclip.copy(str(nome))\n",
    "    pyautogui.hotkey('ctrl','v')\n",
    "    pyautogui.press('Tab')\n",
    "\n",
    "    pyperclip.copy(str(competencia))\n",
    "    pyautogui.hotkey('ctrl','v')\n",
    "    pyautogui.press('Tab')\n",
    "\n",
    "    pyautogui.hotkey('alt', 'down')\n",
    "    for n in range(poder):\n",
    "        pyautogui.press('down')\n",
    "\n",
    "    pyautogui.press('Tab')\n",
    "      \n",
    "    for t in range(tipo-1):\n",
    "        pyautogui.press('down')\n",
    "    \n",
    "    pyautogui.press('Tab')\n",
    "    pyautogui.press('enter')   \n",
    "\n",
    "    pyautogui.hotkey('shift','tab')\n",
    "\n",
    "    for t in range(tipo-1):\n",
    "        pyautogui.press('up')\n",
    "    pyautogui.hotkey('shift','tab')\n",
    "    pyautogui.hotkey('shift','tab')\n",
    "    pyautogui.hotkey('shift','tab')\n",
    "    pyautogui.hotkey('shift','tab')\n"
   ]
  },
  {
   "cell_type": "code",
   "execution_count": 6,
   "metadata": {},
   "outputs": [],
   "source": [
    "df2m = df2.loc[df2['SEXO']== 'M']\n",
    "df2f = df2.loc[df2['SEXO']== 'F']"
   ]
  },
  {
   "cell_type": "code",
   "execution_count": 48,
   "metadata": {},
   "outputs": [
    {
     "ename": "SyntaxError",
     "evalue": "expected ':' (4025330754.py, line 5)",
     "output_type": "error",
     "traceback": [
      "\u001b[1;36m  Input \u001b[1;32mIn [48]\u001b[1;36m\u001b[0m\n\u001b[1;33m    for t in range[i]\u001b[0m\n\u001b[1;37m                     ^\u001b[0m\n\u001b[1;31mSyntaxError\u001b[0m\u001b[1;31m:\u001b[0m expected ':'\n"
     ]
    }
   ],
   "source": [
    "#ESTATISTICA DA POPULAÇÃO COBERTA\n",
    "pyautogui.press('tab')\n",
    "\n",
    "for i, dados in enumerate(df2m[\"cod_orgao\"]):\n",
    "    codigo_m = df2m.loc[i, \"cod_orgao\"]\n",
    "    populacao_m = df2m.loc[i,'cod_tipo']\n",
    "    carreira_m = df2m.loc[i, 'cod_carreira']\n",
    "    criterio_m = df2m.loc[i, 'cod_criterio']\n",
    "    quantidade_m =\n",
    "    media_beneficio_m =\n",
    "    id_media_m =\n",
    "    imp_m =\n",
    "    ima_m = \n",
    "\n",
    "\n",
    "pyautogui.press('tab')\n",
    "\n",
    "for i, dados in enumerate(df2f[\"cod_orgao\"]):\n",
    "    codigo_f = df2f.loc[i, \"cod_orgao\"]\n",
    "    populacao_f = df2f.loc[i,'cod_tipo']\n",
    "    carreira_f = df2f.loc[i, 'cod_carreira']\n",
    "    criterio_f = df2f.loc[i, 'cod_criterio']\n",
    "    quantidade_f =\n",
    "    media_beneficio_f =\n",
    "    id_media_f =\n",
    "    imp_f =\n",
    "    ima_f = \n",
    "\n",
    "\n",
    "    pyautogui.press('tab')\n"
   ]
  }
 ],
 "metadata": {
  "kernelspec": {
   "display_name": "Python 3.10.6 64-bit",
   "language": "python",
   "name": "python3"
  },
  "language_info": {
   "codemirror_mode": {
    "name": "ipython",
    "version": 3
   },
   "file_extension": ".py",
   "mimetype": "text/x-python",
   "name": "python",
   "nbconvert_exporter": "python",
   "pygments_lexer": "ipython3",
   "version": "3.10.6"
  },
  "orig_nbformat": 4,
  "vscode": {
   "interpreter": {
    "hash": "362142306c1946e77b98b1440356f6294178db9dc23b3227efca562eff197b29"
   }
  }
 },
 "nbformat": 4,
 "nbformat_minor": 2
}
