{
 "cells": [
  {
   "cell_type": "code",
   "execution_count": 547,
   "metadata": {},
   "outputs": [],
   "source": [
    "#!pip install pyautogui\n",
    "#!pip install pandas"
   ]
  },
  {
   "cell_type": "code",
   "execution_count": 1,
   "metadata": {},
   "outputs": [],
   "source": [
    "import pyautogui\n",
    "import pyperclip #para conseguir usar texto com caracteres especiais\n",
    "import time #para conseguir dar pausa em uma etapa específica\n",
    "import pandas as pd\n",
    "import pyperclip as pyper\n",
    "\n",
    "#pyautogui.PAUSE = 1 (para poder pausar para cada linha de código em um tempo determinado)\n",
    "#time.sleep(1) (para poder pausar apenas uma linha de código, o resto roda normalmente)"
   ]
  },
  {
   "cell_type": "code",
   "execution_count": 185,
   "metadata": {},
   "outputs": [
    {
     "data": {
      "text/html": [
       "<div>\n",
       "<style scoped>\n",
       "    .dataframe tbody tr th:only-of-type {\n",
       "        vertical-align: middle;\n",
       "    }\n",
       "\n",
       "    .dataframe tbody tr th {\n",
       "        vertical-align: top;\n",
       "    }\n",
       "\n",
       "    .dataframe thead th {\n",
       "        text-align: right;\n",
       "    }\n",
       "</style>\n",
       "<table border=\"1\" class=\"dataframe\">\n",
       "  <thead>\n",
       "    <tr style=\"text-align: right;\">\n",
       "      <th></th>\n",
       "      <th>Descrição</th>\n",
       "      <th>Geração Atual</th>\n",
       "      <th>Gerações Futuras</th>\n",
       "    </tr>\n",
       "  </thead>\n",
       "  <tbody>\n",
       "    <tr>\n",
       "      <th>0</th>\n",
       "      <td>Valor Atual dos Salários Futuros</td>\n",
       "      <td>3.721406e+11</td>\n",
       "      <td>111184810.0</td>\n",
       "    </tr>\n",
       "    <tr>\n",
       "      <th>1</th>\n",
       "      <td>ATIVOS GARANTIDORES DOS COMPROMISSOS DO PLANO ...</td>\n",
       "      <td>4.693680e+09</td>\n",
       "      <td>0.0</td>\n",
       "    </tr>\n",
       "    <tr>\n",
       "      <th>2</th>\n",
       "      <td>Aplicações em Segmento de Renda Fixa - RPPS</td>\n",
       "      <td>1.111111e+08</td>\n",
       "      <td>0.0</td>\n",
       "    </tr>\n",
       "    <tr>\n",
       "      <th>3</th>\n",
       "      <td>Aplicações em Segmento de Renda Variável - ...</td>\n",
       "      <td>2.222222e+07</td>\n",
       "      <td>0.0</td>\n",
       "    </tr>\n",
       "    <tr>\n",
       "      <th>4</th>\n",
       "      <td>Aplicações em Segmento Imobiliário  - RPPS</td>\n",
       "      <td>3.333333e+12</td>\n",
       "      <td>0.0</td>\n",
       "    </tr>\n",
       "    <tr>\n",
       "      <th>...</th>\n",
       "      <td>...</td>\n",
       "      <td>...</td>\n",
       "      <td>...</td>\n",
       "    </tr>\n",
       "    <tr>\n",
       "      <th>59</th>\n",
       "      <td>Equilíbrio Financeiro</td>\n",
       "      <td>NaN</td>\n",
       "      <td>NaN</td>\n",
       "    </tr>\n",
       "    <tr>\n",
       "      <th>60</th>\n",
       "      <td>Superávit Financeiro</td>\n",
       "      <td>1.074863e+08</td>\n",
       "      <td>NaN</td>\n",
       "    </tr>\n",
       "    <tr>\n",
       "      <th>61</th>\n",
       "      <td>NaN</td>\n",
       "      <td>NaN</td>\n",
       "      <td>NaN</td>\n",
       "    </tr>\n",
       "    <tr>\n",
       "      <th>62</th>\n",
       "      <td>NaN</td>\n",
       "      <td>1.900000e+02</td>\n",
       "      <td>NaN</td>\n",
       "    </tr>\n",
       "    <tr>\n",
       "      <th>63</th>\n",
       "      <td>NaN</td>\n",
       "      <td>1.830000e+02</td>\n",
       "      <td>NaN</td>\n",
       "    </tr>\n",
       "  </tbody>\n",
       "</table>\n",
       "<p>64 rows × 3 columns</p>\n",
       "</div>"
      ],
      "text/plain": [
       "                                            Descrição  Geração Atual  \\\n",
       "0                    Valor Atual dos Salários Futuros   3.721406e+11   \n",
       "1   ATIVOS GARANTIDORES DOS COMPROMISSOS DO PLANO ...   4.693680e+09   \n",
       "2         Aplicações em Segmento de Renda Fixa - RPPS   1.111111e+08   \n",
       "3      Aplicações em Segmento de Renda Variável - ...   2.222222e+07   \n",
       "4          Aplicações em Segmento Imobiliário  - RPPS   3.333333e+12   \n",
       "..                                                ...            ...   \n",
       "59                              Equilíbrio Financeiro            NaN   \n",
       "60                               Superávit Financeiro   1.074863e+08   \n",
       "61                                                NaN            NaN   \n",
       "62                                                NaN   1.900000e+02   \n",
       "63                                                NaN   1.830000e+02   \n",
       "\n",
       "    Gerações Futuras  \n",
       "0        111184810.0  \n",
       "1                0.0  \n",
       "2                0.0  \n",
       "3                0.0  \n",
       "4                0.0  \n",
       "..               ...  \n",
       "59               NaN  \n",
       "60               NaN  \n",
       "61               NaN  \n",
       "62               NaN  \n",
       "63               NaN  \n",
       "\n",
       "[64 rows x 3 columns]"
      ]
     },
     "metadata": {},
     "output_type": "display_data"
    }
   ],
   "source": [
    "df = pd.read_excel('plano de amortização.xlsx', sheet_name= 2)\n",
    "display(df)\n",
    "\n"
   ]
  },
  {
   "cell_type": "code",
   "execution_count": 2,
   "metadata": {},
   "outputs": [
    {
     "ename": "NameError",
     "evalue": "name 'df' is not defined",
     "output_type": "error",
     "traceback": [
      "\u001b[1;31m---------------------------------------------------------------------------\u001b[0m",
      "\u001b[1;31mNameError\u001b[0m                                 Traceback (most recent call last)",
      "Cell \u001b[1;32mIn [2], line 1\u001b[0m\n\u001b[1;32m----> 1\u001b[0m vasf \u001b[39m=\u001b[39m df\u001b[39m.\u001b[39mloc[\u001b[39m0\u001b[39m, \u001b[39m\"\u001b[39m\u001b[39mGeração Atual\u001b[39m\u001b[39m\"\u001b[39m]\n\u001b[0;32m      2\u001b[0m aplicacoes \u001b[39m=\u001b[39m df\u001b[39m.\u001b[39mloc[\u001b[39m2\u001b[39m:\u001b[39m7\u001b[39m,\u001b[39m\"\u001b[39m\u001b[39mGeração Atual\u001b[39m\u001b[39m\"\u001b[39m]\n\u001b[0;32m      3\u001b[0m benef_conc_enc \u001b[39m=\u001b[39m df\u001b[39m.\u001b[39mloc[\u001b[39m10\u001b[39m:\u001b[39m15\u001b[39m, \u001b[39m\"\u001b[39m\u001b[39mGeração Atual\u001b[39m\u001b[39m\"\u001b[39m]\n",
      "\u001b[1;31mNameError\u001b[0m: name 'df' is not defined"
     ]
    }
   ],
   "source": [
    "vasf = df.loc[0, \"Geração Atual\"]\n",
    "aplicacoes = df.loc[2:7,\"Geração Atual\"]\n",
    "benef_conc_enc = df.loc[10:15, \"Geração Atual\"]\n",
    "benef_conc_contrib_e_compens = df.loc[17:19, \"Geração Atual\"]\n",
    "benef_a_conc = df.loc[22:29, \"Geração Atual\"]\n",
    "benef_a_conc_enc = df.loc[31:35, \"Geração Atual\"]\n",
    "valor_atual_deficit_atuarial = df.loc[37:38, \"Geração Atual\"]\n",
    "prov_conting = df.loc[44:45,\"Geração Atual\"]\n",
    "fundos_const = df.loc[47:53,\"Geração Atual\"]\n",
    "rec_e_desp_estim_do_exerc = df.loc[55:56,\"Geração Atual\"]\n",
    "\n",
    "\n",
    "vasf2 = df.loc[0, \"Gerações Futuras\"]\n",
    "benef_a_conc2 = df.loc[23:29, \"Gerações Futuras\"]\n",
    "benef_a_conc_enc2 = df.loc[32:35, \"Gerações Futuras\"]\n",
    "valor_atual_deficit_atuarial2 = df.loc[37, \"Gerações Futuras\"]\n",
    "bug = df.loc[22, \"Gerações Futuras\"]\n",
    "bug2 =df.loc[31, \"Gerações Futuras\"]"
   ]
  },
  {
   "cell_type": "code",
   "execution_count": 186,
   "metadata": {},
   "outputs": [],
   "source": [
    "#lembrar de deixar o mouse em cima da primeira célula a preencher\n",
    "time.sleep(3)\n",
    "pyautogui.position() #1538\n",
    "a , b = pyautogui.position() \n",
    "a\n",
    "\n",
    "f = a + 190\n",
    "f\n",
    "\n",
    "t = 0 #tempo de intervaldo entre blocos"
   ]
  },
  {
   "cell_type": "code",
   "execution_count": 189,
   "metadata": {},
   "outputs": [],
   "source": [
    "time.sleep(t)\n",
    "pyautogui.click(x=a, y=363, clicks = 2)\n",
    "\n",
    "pyperclip.copy(str(vasf))\n",
    "pyautogui.hotkey('ctrl', 'v')\n",
    "pyautogui.press('enter')\n",
    "pyautogui.press('enter')"
   ]
  },
  {
   "cell_type": "code",
   "execution_count": 190,
   "metadata": {},
   "outputs": [
    {
     "data": {
      "text/plain": [
       "525"
      ]
     },
     "metadata": {},
     "output_type": "display_data"
    }
   ],
   "source": [
    "#Ativos garantidores\n",
    "time.sleep(t)\n",
    "i = 405\n",
    "pyautogui.click(x=a, y=i, clicks = 2) \n",
    "\n",
    "for n in aplicacoes.index:\n",
    "    x = aplicacoes[n]\n",
    "    pyautogui.click(x=1520, y=i, clicks = 2) \n",
    "    pyperclip.copy(str(x))\n",
    "    pyautogui.hotkey('ctrl', 'v')\n",
    "    pyautogui.press('enter')\n",
    "    i = i + 20\n",
    "display(i)"
   ]
  },
  {
   "cell_type": "code",
   "execution_count": 191,
   "metadata": {},
   "outputs": [
    {
     "data": {
      "text/plain": [
       "685"
      ]
     },
     "metadata": {},
     "output_type": "display_data"
    }
   ],
   "source": [
    "#VABF\n",
    "time.sleep(t)\n",
    "i = 565\n",
    "pyautogui.click(x=1512, y=i, clicks = 2)\n",
    "\n",
    "for n in benef_conc_enc.index:\n",
    "    x = benef_conc_enc[n]\n",
    "    pyautogui.click(x=1520, y=i, clicks = 2) \n",
    "    pyperclip.copy(str(x))\n",
    "    pyautogui.hotkey('ctrl', 'v')\n",
    "    pyautogui.press('enter')\n",
    "    i = i + 20\n",
    "display(i)    "
   ]
  },
  {
   "cell_type": "code",
   "execution_count": 192,
   "metadata": {},
   "outputs": [
    {
     "data": {
      "text/plain": [
       "765"
      ]
     },
     "metadata": {},
     "output_type": "display_data"
    }
   ],
   "source": [
    "#VACF- Encargos de benefícios\n",
    "time.sleep(t)\n",
    "i = 705\n",
    "pyautogui.click(x=1512, y=i, clicks = 2)\n",
    "\n",
    "for n in benef_conc_contrib_e_compens.index:\n",
    "    x = benef_conc_contrib_e_compens[n]\n",
    "    pyautogui.click(x=1520, y=i, clicks = 2) \n",
    "    pyperclip.copy(str(x))\n",
    "    pyautogui.hotkey('ctrl', 'v')\n",
    "    pyautogui.press('enter')\n",
    "    i = i + 20\n",
    "display(i)  \n",
    "  "
   ]
  },
  {
   "cell_type": "code",
   "execution_count": 193,
   "metadata": {},
   "outputs": [],
   "source": [
    "time.sleep(t)\n",
    "for i in range(31):\n",
    "    pyautogui.press('enter')\n",
    "#Vai parar em valor atual dos benefícios futuros"
   ]
  },
  {
   "cell_type": "code",
   "execution_count": 194,
   "metadata": {},
   "outputs": [
    {
     "data": {
      "text/plain": [
       "535"
      ]
     },
     "metadata": {},
     "output_type": "display_data"
    }
   ],
   "source": [
    "#VABF - Encargos de benefícios a conceder\n",
    "time.sleep(t)\n",
    "i = 375\n",
    "pyautogui.click(x=a, y=i, clicks = 2)\n",
    "\n",
    "for n in benef_a_conc.index:\n",
    "    x = benef_a_conc[n]\n",
    "    pyautogui.click(x=1520, y=i, clicks = 2) \n",
    "    pyperclip.copy(str(x))\n",
    "    pyautogui.hotkey('ctrl', 'v')\n",
    "    pyautogui.press('enter')\n",
    "    i = i + 20\n",
    "display(i) "
   ]
  },
  {
   "cell_type": "code",
   "execution_count": 195,
   "metadata": {},
   "outputs": [
    {
     "data": {
      "text/plain": [
       "655"
      ]
     },
     "metadata": {},
     "output_type": "display_data"
    }
   ],
   "source": [
    "#VACF e compensações a receber\n",
    "time.sleep(t)\n",
    "i = 555\n",
    "pyautogui.click(x=a, y=i, clicks = 2)\n",
    "\n",
    "for n in benef_a_conc_enc.index:\n",
    "    x = benef_a_conc_enc[n]\n",
    "    pyautogui.click(x=1520, y=i, clicks = 2) \n",
    "    pyperclip.copy(str(x))\n",
    "    pyautogui.hotkey('ctrl', 'v')\n",
    "    pyautogui.press('enter')\n",
    "    i = i + 20\n",
    "display(i) "
   ]
  },
  {
   "cell_type": "code",
   "execution_count": 196,
   "metadata": {},
   "outputs": [
    {
     "data": {
      "text/plain": [
       "715"
      ]
     },
     "metadata": {},
     "output_type": "display_data"
    }
   ],
   "source": [
    "#Provisão matemática para cobertura de insuficiência financeira\n",
    "time.sleep(t)\n",
    "i = 675\n",
    "pyautogui.click(x=a, y=i, clicks = 2)\n",
    "\n",
    "for n in valor_atual_deficit_atuarial.index:\n",
    "    x = valor_atual_deficit_atuarial[n]\n",
    "    pyautogui.click(x=1520, y=i, clicks = 2) \n",
    "    pyperclip.copy(str(x))\n",
    "    pyautogui.hotkey('ctrl', 'v')\n",
    "    pyautogui.press('enter')\n",
    "    i = i + 20\n",
    "display(i) "
   ]
  },
  {
   "cell_type": "code",
   "execution_count": 197,
   "metadata": {},
   "outputs": [
    {
     "data": {
      "text/plain": [
       "855"
      ]
     },
     "metadata": {},
     "output_type": "display_data"
    }
   ],
   "source": [
    "#Destinação do resultado\n",
    "time.sleep(t)\n",
    "i = 815\n",
    "pyautogui.click(x=a, y=i, clicks = 2)\n",
    "\n",
    "for n in prov_conting.index:\n",
    "    x = prov_conting[n]\n",
    "    pyautogui.click(x=1520, y=i, clicks = 2) \n",
    "    pyperclip.copy(str(x))\n",
    "    pyautogui.hotkey('ctrl', 'v')\n",
    "    pyautogui.press('enter')\n",
    "    i = i + 20\n",
    "display(i) "
   ]
  },
  {
   "cell_type": "code",
   "execution_count": 198,
   "metadata": {},
   "outputs": [],
   "source": [
    "time.sleep(t)\n",
    "for i in range(12):\n",
    "    pyautogui.press('enter')\n",
    "#vai deixar alinhado para preencher os fundos"
   ]
  },
  {
   "cell_type": "code",
   "execution_count": 199,
   "metadata": {},
   "outputs": [
    {
     "data": {
      "text/plain": [
       "875"
      ]
     },
     "metadata": {},
     "output_type": "display_data"
    }
   ],
   "source": [
    "#Fundos constituídos\n",
    "time.sleep(t)\n",
    "i = 735\n",
    "pyautogui.click(x=a, y=i, clicks = 2)\n",
    "\n",
    "for n in fundos_const.index:\n",
    "    x = fundos_const[n]\n",
    "    pyautogui.click(x=1520, y=i, clicks = 2) \n",
    "    pyperclip.copy(str(x))\n",
    "    pyautogui.hotkey('ctrl', 'v')\n",
    "    pyautogui.press('enter')\n",
    "    i = i + 20\n",
    "display(i) "
   ]
  },
  {
   "cell_type": "code",
   "execution_count": 200,
   "metadata": {},
   "outputs": [],
   "source": [
    "time.sleep(t)\n",
    "for i in range(7):\n",
    "    pyautogui.press('enter')"
   ]
  },
  {
   "cell_type": "code",
   "execution_count": 201,
   "metadata": {},
   "outputs": [
    {
     "data": {
      "text/plain": [
       "875"
      ]
     },
     "metadata": {},
     "output_type": "display_data"
    }
   ],
   "source": [
    "#receitas e despesas\n",
    "time.sleep(t)\n",
    "i = 835\n",
    "pyautogui.click(x=a, y=i, clicks = 2)\n",
    "\n",
    "for n in rec_e_desp_estim_do_exerc.index:\n",
    "    x = rec_e_desp_estim_do_exerc[n]\n",
    "    pyautogui.click(x=1520, y=i, clicks = 2) \n",
    "    pyperclip.copy(str(x))\n",
    "    pyautogui.hotkey('ctrl', 'v')\n",
    "    pyautogui.press('enter')\n",
    "    i = i + 20\n",
    "display(i) "
   ]
  },
  {
   "cell_type": "code",
   "execution_count": 202,
   "metadata": {},
   "outputs": [],
   "source": [
    "#voltando ao início\n",
    "time.sleep(t)\n",
    "for i in range(5):\n",
    "    pyautogui.press('enter')"
   ]
  },
  {
   "cell_type": "code",
   "execution_count": 203,
   "metadata": {},
   "outputs": [],
   "source": [
    "#VASF geração futura\n",
    "time.sleep(t)\n",
    "i = 375\n",
    "pyautogui.click(x=f, y = i, clicks = 2)\n",
    "pyperclip.copy(str(vasf2))\n",
    "pyautogui.hotkey(\"ctrl\", \"v\")"
   ]
  },
  {
   "cell_type": "code",
   "execution_count": 204,
   "metadata": {},
   "outputs": [],
   "source": [
    "time.sleep(t)\n",
    "for i in range(43):\n",
    "    pyautogui.press('enter')"
   ]
  },
  {
   "cell_type": "code",
   "execution_count": 205,
   "metadata": {},
   "outputs": [],
   "source": [
    "#colocando uma variável isolada pois o cadprev não está aceitando dentro do for\n",
    "time.sleep(t)\n",
    "i = 540\n",
    "pyautogui.click(x = f, y = i, clicks = 2)\n",
    "pyperclip.copy(str(bug))\n",
    "pyautogui.hotkey(\"ctrl\", \"v\")"
   ]
  },
  {
   "cell_type": "code",
   "execution_count": 206,
   "metadata": {},
   "outputs": [
    {
     "data": {
      "text/plain": [
       "700"
      ]
     },
     "metadata": {},
     "output_type": "display_data"
    }
   ],
   "source": [
    "#Provisões matemáticas de benefícios a conceder da geração futura\n",
    "time.sleep(t)\n",
    "i = 560\n",
    "pyautogui.click(x=a, y=i, clicks = 2)\n",
    "\n",
    "for n in benef_a_conc2.index:\n",
    "    x = benef_a_conc2[n]\n",
    "    pyautogui.click(x=f, y=i, clicks = 2) \n",
    "    pyperclip.copy(str(x))\n",
    "    pyautogui.hotkey('ctrl', 'v')\n",
    "    pyautogui.press('enter')\n",
    "    i = i + 20\n",
    "display(i)"
   ]
  },
  {
   "cell_type": "code",
   "execution_count": 207,
   "metadata": {},
   "outputs": [],
   "source": [
    "#colocando uma variável isolada pois o cadprev não está aceitando dentro do for\n",
    "time.sleep(t)\n",
    "i = 715\n",
    "pyautogui.click(x = f, y = i, clicks = 2)\n",
    "pyperclip.copy(str(bug2))\n",
    "pyautogui.hotkey(\"ctrl\", \"v\")"
   ]
  },
  {
   "cell_type": "code",
   "execution_count": 208,
   "metadata": {},
   "outputs": [
    {
     "data": {
      "text/plain": [
       "815"
      ]
     },
     "metadata": {},
     "output_type": "display_data"
    }
   ],
   "source": [
    "time.sleep(t)\n",
    "i = 735\n",
    "pyautogui.click(x=a, y=i, clicks = 2)\n",
    "\n",
    "for n in benef_a_conc_enc2.index:\n",
    "    x = benef_a_conc_enc2[n]\n",
    "    pyautogui.click(x=f, y=i, clicks = 2) \n",
    "    pyperclip.copy(str(x))\n",
    "    pyautogui.hotkey('ctrl', 'v')\n",
    "    pyautogui.press('enter')\n",
    "    i = i + 20\n",
    "display(i)"
   ]
  },
  {
   "cell_type": "code",
   "execution_count": 209,
   "metadata": {},
   "outputs": [],
   "source": [
    "#Valor atual do plano de amortização do deficit atuarial para geração futura\n",
    "time.sleep(t)\n",
    "i = 835\n",
    "pyautogui.click(x = f, y = i, clicks = 2)\n",
    "pyperclip.copy(str(valor_atual_deficit_atuarial2))\n",
    "pyautogui.hotkey(\"ctrl\", \"v\")"
   ]
  }
 ],
 "metadata": {
  "kernelspec": {
   "display_name": "Python 3.10.8 64-bit (microsoft store)",
   "language": "python",
   "name": "python3"
  },
  "language_info": {
   "codemirror_mode": {
    "name": "ipython",
    "version": 3
   },
   "file_extension": ".py",
   "mimetype": "text/x-python",
   "name": "python",
   "nbconvert_exporter": "python",
   "pygments_lexer": "ipython3",
   "version": "3.10.8"
  },
  "orig_nbformat": 4,
  "vscode": {
   "interpreter": {
    "hash": "98bfc96c88827eb559aec2321a084f4367a52548f8a2346d493bf636bf0b6745"
   }
  }
 },
 "nbformat": 4,
 "nbformat_minor": 2
}
