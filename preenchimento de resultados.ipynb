{
 "cells": [
  {
   "cell_type": "code",
   "execution_count": null,
   "metadata": {},
   "outputs": [],
   "source": [
    "#!pip install pyautogui\n",
    "#!pip install opencv-python\n",
    "#!pip install Openpyxl\n",
    "#!pip install workbook\n",
    "#!pip install pandas\n",
    "#!pip install pywin32\n",
    "#!pip install pyinstaller (para deixar o script executável)"
   ]
  },
  {
   "cell_type": "code",
   "execution_count": 1,
   "metadata": {},
   "outputs": [],
   "source": [
    "import openpyxl as py\n",
    "import pyautogui\n",
    "import pyperclip #para conseguir usar texto com caracteres especiais\n",
    "import time #para conseguir dar pausa em uma etapa específica\n",
    "import pandas as pd\n",
    "import pyperclip as pyper\n",
    "\n",
    "#pyautogui.PAUSE = 1 (para poder pausar para cada linha de código em um tempo determinado)\n",
    "#time.sleep(1) (para poder pausar apenas uma linha de código, o resto roda normalmente)"
   ]
  },
  {
   "cell_type": "code",
   "execution_count": 2,
   "metadata": {},
   "outputs": [],
   "source": [
    "df = pd.read_excel('plano de amortização.xlsx', sheet_name= 2)\n",
    "#display(df)\n",
    "\n"
   ]
  },
  {
   "cell_type": "code",
   "execution_count": 24,
   "metadata": {},
   "outputs": [
    {
     "data": {
      "text/plain": [
       "Point(x=1530, y=385)"
      ]
     },
     "execution_count": 24,
     "metadata": {},
     "output_type": "execute_result"
    }
   ],
   "source": [
    "time.sleep(3)\n",
    "pyautogui.position()\n",
    "#Point(x=1533, y=360)\n",
    "#"
   ]
  },
  {
   "cell_type": "code",
   "execution_count": 7,
   "metadata": {},
   "outputs": [],
   "source": [
    "time.sleep(3)\n",
    "vasf = df.loc[1, \"Geração Atual\"]\n",
    "aplicacoes = df.loc[2:7,\"Geração Atual\"]\n",
    "benef_conc_enc = df.loc[10:15, \"Geração Atual\"]\n",
    "benef_conc_contrib_e_compens = df.loc[17:19, \"Geração Atual\"]\n",
    "benef_a_conc = df.loc[23:29, \"Geração Atual\"]\n",
    "benef_a_conc_enc = df.loc[22:29, \"Geração Atual\"]\n",
    "benef_a_conc_contrib = df.loc[31:35, \"Geração Atual\"]\n",
    "valor_atual_deficit_atuarial = df.loc[37:38, \"Geração Atual\"]\n",
    "prov_conting = df.loc[44:45,\"Geração Atual\"]\n",
    "rec_e_desp_estim_do_exerc = df.loc[55:56,\"Geração Atual\"]\n",
    "\n",
    "pyperclip.copy(str(vasf))\n",
    "pyautogui.hotkey('ctrl', 'v')\n",
    "pyautogui.press('enter')\n",
    "pyautogui.press('enter')\n",
    "\n",
    "for dado in aplicacoes :\n",
    "    i = 380\n",
    "    pyautogui.click(x=1520, y=i, clicks = 2) \n",
    "    pyperclip.copy(str(aplicacoes))\n",
    "    pyautogui.hotkey('ctrl', 'v')\n",
    "    pyautogui.press('enter')\n",
    "    i = i + 20\n",
    "\n",
    "\n"
   ]
  }
 ],
 "metadata": {
  "kernelspec": {
   "display_name": "Python 3.10.8 64-bit (microsoft store)",
   "language": "python",
   "name": "python3"
  },
  "language_info": {
   "codemirror_mode": {
    "name": "ipython",
    "version": 3
   },
   "file_extension": ".py",
   "mimetype": "text/x-python",
   "name": "python",
   "nbconvert_exporter": "python",
   "pygments_lexer": "ipython3",
   "version": "3.10.8"
  },
  "orig_nbformat": 4,
  "vscode": {
   "interpreter": {
    "hash": "98bfc96c88827eb559aec2321a084f4367a52548f8a2346d493bf636bf0b6745"
   }
  }
 },
 "nbformat": 4,
 "nbformat_minor": 2
}
