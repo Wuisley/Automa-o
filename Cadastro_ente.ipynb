{
 "cells": [
  {
   "cell_type": "code",
   "execution_count": 6,
   "metadata": {},
   "outputs": [],
   "source": [
    "import pandas as pd\n",
    "import pyautogui\n",
    "import time\n",
    "import pyperclip"
   ]
  },
  {
   "cell_type": "code",
   "execution_count": 55,
   "metadata": {},
   "outputs": [],
   "source": [
    "t = 3\n",
    "df = pd.read_excel(\"plano de amortização.xlsx\", sheet_name= 7)"
   ]
  },
  {
   "cell_type": "markdown",
   "metadata": {},
   "source": [
    "Dados do ente\n"
   ]
  },
  {
   "cell_type": "code",
   "execution_count": 9,
   "metadata": {},
   "outputs": [],
   "source": [
    "# Endereço\n",
    "time.sleep(t)\n",
    "pyperclip.copy(df.iloc[0,0])\n",
    "pyautogui.hotkey('ctrl', 'a')\n",
    "pyautogui.hotkey('ctrl', 'v')\n",
    "\n",
    "pyautogui.press('tab')\n"
   ]
  },
  {
   "cell_type": "code",
   "execution_count": 10,
   "metadata": {},
   "outputs": [],
   "source": [
    "#complemento\n",
    "time.sleep(t)\n",
    "pyperclip.copy(df.iloc[0,1])\n",
    "pyautogui.hotkey('ctrl', 'a')\n",
    "pyautogui.hotkey('ctrl', 'v')\n",
    "\n",
    "pyautogui.press('tab')"
   ]
  },
  {
   "cell_type": "code",
   "execution_count": 11,
   "metadata": {},
   "outputs": [],
   "source": [
    "#Bairro\n",
    "time.sleep(t)\n",
    "pyperclip.copy(df.iloc[0,2])\n",
    "pyautogui.hotkey('ctrl', 'a')\n",
    "pyautogui.hotkey('ctrl', 'v')\n",
    "\n",
    "pyautogui.press('tab')"
   ]
  },
  {
   "cell_type": "code",
   "execution_count": 12,
   "metadata": {},
   "outputs": [],
   "source": [
    "#CEP\n",
    "time.sleep(t)\n",
    "pyperclip.copy(int(df.iloc[0,3]))\n",
    "pyautogui.hotkey('ctrl', 'a')\n",
    "pyautogui.hotkey('ctrl', 'v')\n",
    "\n",
    "pyautogui.press('tab')"
   ]
  },
  {
   "cell_type": "code",
   "execution_count": 13,
   "metadata": {},
   "outputs": [],
   "source": [
    "#Telefone\n",
    "time.sleep(t)\n",
    "pyperclip.copy(int(df.iloc[0,4]))\n",
    "pyautogui.hotkey('ctrl', 'a')\n",
    "pyautogui.hotkey('ctrl', 'v')\n",
    "\n",
    "pyautogui.press('tab')"
   ]
  },
  {
   "cell_type": "code",
   "execution_count": 14,
   "metadata": {},
   "outputs": [],
   "source": [
    "#Email\n",
    "time.sleep(t)\n",
    "pyperclip.copy(df.iloc[0,5])\n",
    "pyautogui.hotkey('ctrl', 'a')\n",
    "pyautogui.hotkey('ctrl', 'v')\n",
    "\n",
    "pyautogui.press('tab')\n"
   ]
  },
  {
   "cell_type": "markdown",
   "metadata": {},
   "source": [
    "Dados do Representante Legal do Ente"
   ]
  },
  {
   "cell_type": "code",
   "execution_count": 53,
   "metadata": {},
   "outputs": [],
   "source": [
    "#CPF\n",
    "time.sleep(t)\n",
    "if len(str(df.iloc[0,6])) != 11:\n",
    "    u = '0' + str(df.iloc[0,6])\n",
    "    pyperclip.copy(u)\n",
    "    pyautogui.hotkey('ctrl', 'a')\n",
    "    pyautogui.hotkey('ctrl', 'v')\n",
    "else:\n",
    "    pyperclip.copy(int(df.iloc[0,6]))\n",
    "    pyautogui.hotkey('ctrl', 'a')\n",
    "    pyautogui.hotkey('ctrl', 'v')    \n",
    "\n",
    "pyautogui.press('tab')\n",
    "pyautogui.press('space')\n",
    "pyautogui.press('tab')"
   ]
  },
  {
   "cell_type": "code",
   "execution_count": 27,
   "metadata": {},
   "outputs": [],
   "source": [
    "#Nome\n",
    "time.sleep(t)\n",
    "pyperclip.copy(df.iloc[0,7])\n",
    "pyautogui.hotkey('ctrl', 'a')\n",
    "pyautogui.hotkey('ctrl', 'v')\n",
    "\n",
    "pyautogui.press('tab')"
   ]
  },
  {
   "cell_type": "code",
   "execution_count": 30,
   "metadata": {},
   "outputs": [],
   "source": [
    "#Cargo\n",
    "time.sleep(t)\n",
    "for n in range(df.iloc[0,8]):\n",
    "    pyautogui.press('down')\n",
    "pyautogui.press('tab')"
   ]
  },
  {
   "cell_type": "code",
   "execution_count": 43,
   "metadata": {},
   "outputs": [],
   "source": [
    "#Completendo do cargo\n",
    "pyautogui.sleep(t)\n",
    "if df.iloc[0,8] == 3 or 4 and df.iloc[0,10] != \"nan\":\n",
    "    pyperclip.copy(str(df.iloc[0,10]))\n",
    "    pyautogui.hotkey('ctrl', 'a')\n",
    "    pyautogui.hotkey('ctrl', 'v')\n",
    "    pyautogui.press('tab')\n",
    "else:\n",
    "    pyautogui.press('tab')"
   ]
  },
  {
   "cell_type": "code",
   "execution_count": 50,
   "metadata": {},
   "outputs": [],
   "source": [
    "#Data inicio gestão\n",
    "time.sleep(t)\n",
    "pyperclip.copy(str(df.iloc[0,11]))\n",
    "pyautogui.hotkey('ctrl', 'a')\n",
    "pyautogui.hotkey('ctrl', 'v')\n",
    "\n",
    "pyautogui.press('tab')"
   ]
  },
  {
   "cell_type": "code",
   "execution_count": 51,
   "metadata": {},
   "outputs": [],
   "source": [
    "#E-mail ente\n",
    "time.sleep(t)\n",
    "pyperclip.copy(str(df.iloc[0,12]))\n",
    "pyautogui.hotkey('ctrl', 'a')\n",
    "pyautogui.hotkey('ctrl', 'v')\n",
    "pyautogui.press('tab')\n",
    "pyautogui.press('enter')"
   ]
  }
 ],
 "metadata": {
  "kernelspec": {
   "display_name": "Python 3.10.8 64-bit (microsoft store)",
   "language": "python",
   "name": "python3"
  },
  "language_info": {
   "codemirror_mode": {
    "name": "ipython",
    "version": 3
   },
   "file_extension": ".py",
   "mimetype": "text/x-python",
   "name": "python",
   "nbconvert_exporter": "python",
   "pygments_lexer": "ipython3",
   "version": "3.10.8"
  },
  "orig_nbformat": 4,
  "vscode": {
   "interpreter": {
    "hash": "98bfc96c88827eb559aec2321a084f4367a52548f8a2346d493bf636bf0b6745"
   }
  }
 },
 "nbformat": 4,
 "nbformat_minor": 2
}
